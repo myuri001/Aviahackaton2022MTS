{
 "cells": [
  {
   "cell_type": "markdown",
   "metadata": {},
   "source": [
    "# Авиахакатон2022. Cezar"
   ]
  },
  {
   "cell_type": "markdown",
   "metadata": {},
   "source": [
    "### Authors: Konstantin K., Nikita P., Michael Y, Tynarbek B, Iliya S."
   ]
  },
  {
   "cell_type": "markdown",
   "metadata": {},
   "source": [
    "### Работа состояла из нескольких этапов\n",
    "- Изучение полученных данных, выявление взаимосвязей в разрозненных данных.\n",
    "- Структурирвание исходных данных и создание взаимосвязей, как основы будущей модели.\n",
    "- Проектирование модели данных на основе `.xslx` файлов, использование библиотеки `pandas`.\n",
    "- Выявление отклонений между фактическим объмом и зарезервированным:\n",
    "$$\n",
    "\\Delta_{\\%}=\\dfrac{V_{fact}-V_{res}}{V_{fact}}\\cdot 100\\%.\n",
    "$$\n",
    "- Создание визуализации для сравнительного анализа.\n",
    "- Прогнозирование данных на `3` и `6` месяцев"
   ]
  },
  {
   "cell_type": "markdown",
   "metadata": {},
   "source": [
    "Имортирование библиотек"
   ]
  },
  {
   "cell_type": "code",
   "execution_count": 2,
   "metadata": {},
   "outputs": [],
   "source": [
    "import pandas as pd\n",
    "import matplotlib.pyplot as plt"
   ]
  },
  {
   "cell_type": "markdown",
   "metadata": {},
   "source": [
    "#### 1) Структурирвоание данных по хранению и резервированию объемов `прихода`, `расхода` и `хранения`."
   ]
  },
  {
   "cell_type": "markdown",
   "metadata": {},
   "source": [
    "Файлы используемые для работы:\n",
    "- `6.Приходные операции_2020-2021.xlsx = inop_20_21` - данные по увеличению объёма\n",
    "- `5.Расходные операции_янв-дек2021.xlsx = outop_20_21` - данные по уменьшению объёма.\n",
    "- `4.Ожидаемые поставки_Январь2021.xlsx = wship_2021` - оф.прогноз по увеличению объёма.\n",
    "- `1.ОСНОВНОЙ Факт объемы_м3_2017_2022_по дням1.xlsx = fact_2021` - факт объёма."
   ]
  },
  {
   "cell_type": "markdown",
   "metadata": {},
   "source": [
    "Загрузка данных"
   ]
  },
  {
   "cell_type": "code",
   "execution_count": 4,
   "metadata": {},
   "outputs": [],
   "source": [
    "inop_20_21 = pd.read_excel(r\".\\Data\\6.Приходные операции_2020-2021.xlsx\")"
   ]
  },
  {
   "cell_type": "code",
   "execution_count": 20,
   "metadata": {},
   "outputs": [],
   "source": [
    "outop_20_21 = pd.read_excel(r\".\\Data\\5.Расходные операции_янв-дек2021.xlsx\")"
   ]
  },
  {
   "cell_type": "code",
   "execution_count": 8,
   "metadata": {},
   "outputs": [],
   "source": [
    "wship_2021 = pd.read_excel(r\".\\Data\\4.Ожидаемые поставки_Январь2021.xlsx\")"
   ]
  },
  {
   "cell_type": "code",
   "execution_count": 10,
   "metadata": {},
   "outputs": [],
   "source": [
    "fact_2021 = pd.read_excel(r\".\\Data\\1.ОСНОВНОЙ Факт объемы_м3_2017_2022_по дням1.xlsx\", sheet_name=\"2021\")"
   ]
  },
  {
   "cell_type": "markdown",
   "metadata": {},
   "source": [
    "Обработка `outop_20_21`"
   ]
  },
  {
   "cell_type": "code",
   "execution_count": 21,
   "metadata": {},
   "outputs": [
    {
     "name": "stdout",
     "output_type": "stream",
     "text": [
      "<class 'pandas.core.frame.DataFrame'>\n",
      "RangeIndex: 192414 entries, 0 to 192413\n",
      "Data columns (total 13 columns):\n",
      " #   Column                          Non-Null Count   Dtype         \n",
      "---  ------                          --------------   -----         \n",
      " 0   Дата операции                   192414 non-null  datetime64[ns]\n",
      " 1   Тип операции                    192414 non-null  object        \n",
      " 2   Источник операции               192414 non-null  object        \n",
      " 3   Код позиции                     192414 non-null  object        \n",
      " 4   Описание позиции                192414 non-null  object        \n",
      " 5   Код организации источника       192414 non-null  object        \n",
      " 6   Описание организации источника  192414 non-null  object        \n",
      " 7   № Площадки                      191427 non-null  object        \n",
      " 8   Количество операции             192414 non-null  float64       \n",
      " 9   ЕИ                              192414 non-null  object        \n",
      " 10  Объем за единицу                192315 non-null  float64       \n",
      " 11  Общий объем                     192315 non-null  float64       \n",
      " 12  ЕИ объема                       192340 non-null  object        \n",
      "dtypes: datetime64[ns](1), float64(3), object(9)\n",
      "memory usage: 19.1+ MB\n"
     ]
    }
   ],
   "source": [
    "outop_20_21.info()"
   ]
  },
  {
   "cell_type": "markdown",
   "metadata": {},
   "source": [
    "Индексирование по датам `\"Дата операции\"`"
   ]
  },
  {
   "cell_type": "code",
   "execution_count": 24,
   "metadata": {},
   "outputs": [
    {
     "data": {
      "text/html": [
       "<div>\n",
       "<style scoped>\n",
       "    .dataframe tbody tr th:only-of-type {\n",
       "        vertical-align: middle;\n",
       "    }\n",
       "\n",
       "    .dataframe tbody tr th {\n",
       "        vertical-align: top;\n",
       "    }\n",
       "\n",
       "    .dataframe thead th {\n",
       "        text-align: right;\n",
       "    }\n",
       "</style>\n",
       "<table border=\"1\" class=\"dataframe\">\n",
       "  <thead>\n",
       "    <tr style=\"text-align: right;\">\n",
       "      <th></th>\n",
       "      <th>Дата операции</th>\n",
       "      <th>Тип операции</th>\n",
       "      <th>Источник операции</th>\n",
       "      <th>Код позиции</th>\n",
       "      <th>Описание позиции</th>\n",
       "      <th>Код организации источника</th>\n",
       "      <th>Описание организации источника</th>\n",
       "      <th>№ Площадки</th>\n",
       "      <th>Количество операции</th>\n",
       "      <th>ЕИ</th>\n",
       "      <th>Объем за единицу</th>\n",
       "      <th>Общий объем</th>\n",
       "      <th>ЕИ объема</th>\n",
       "    </tr>\n",
       "  </thead>\n",
       "  <tbody>\n",
       "    <tr>\n",
       "      <th>0</th>\n",
       "      <td>2021-03-26</td>\n",
       "      <td>Списание в монтаж</td>\n",
       "      <td>Зак. на перемещ.</td>\n",
       "      <td>132.019.000078</td>\n",
       "      <td>Ответвитель направленный EG 10дБ 376..1000МГц ...</td>\n",
       "      <td>304</td>\n",
       "      <td>Склад ответхранения, СТА Карго, Северо-Запад</td>\n",
       "      <td>PL_78_21271 (300)</td>\n",
       "      <td>-6.0</td>\n",
       "      <td>шт</td>\n",
       "      <td>0.000375</td>\n",
       "      <td>0.00225</td>\n",
       "      <td>кбм</td>\n",
       "    </tr>\n",
       "    <tr>\n",
       "      <th>1</th>\n",
       "      <td>2021-04-20</td>\n",
       "      <td>Списание в монтаж</td>\n",
       "      <td>Зак. на перемещ.</td>\n",
       "      <td>132.019.000080</td>\n",
       "      <td>Ответвитель направленный EG 15дБ 376..1000МГц ...</td>\n",
       "      <td>304</td>\n",
       "      <td>Склад ответхранения, СТА Карго, Северо-Запад</td>\n",
       "      <td>PL_78_04315 (300)</td>\n",
       "      <td>-3.0</td>\n",
       "      <td>шт</td>\n",
       "      <td>0.035700</td>\n",
       "      <td>0.10710</td>\n",
       "      <td>кбм</td>\n",
       "    </tr>\n",
       "  </tbody>\n",
       "</table>\n",
       "</div>"
      ],
      "text/plain": [
       "  Дата операции       Тип операции Источник операции     Код позиции  \\\n",
       "0    2021-03-26  Списание в монтаж  Зак. на перемещ.  132.019.000078   \n",
       "1    2021-04-20  Списание в монтаж  Зак. на перемещ.  132.019.000080   \n",
       "\n",
       "                                    Описание позиции  \\\n",
       "0  Ответвитель направленный EG 10дБ 376..1000МГц ...   \n",
       "1  Ответвитель направленный EG 15дБ 376..1000МГц ...   \n",
       "\n",
       "  Код организации источника                Описание организации источника  \\\n",
       "0                       304  Склад ответхранения, СТА Карго, Северо-Запад   \n",
       "1                       304  Склад ответхранения, СТА Карго, Северо-Запад   \n",
       "\n",
       "          № Площадки  Количество операции  ЕИ  Объем за единицу  Общий объем  \\\n",
       "0  PL_78_21271 (300)                 -6.0  шт          0.000375      0.00225   \n",
       "1  PL_78_04315 (300)                 -3.0  шт          0.035700      0.10710   \n",
       "\n",
       "  ЕИ объема  \n",
       "0       кбм  \n",
       "1       кбм  "
      ]
     },
     "execution_count": 24,
     "metadata": {},
     "output_type": "execute_result"
    }
   ],
   "source": [
    "outop_20_21.set_index(\"Дата операции\")"
   ]
  },
  {
   "cell_type": "markdown",
   "metadata": {},
   "source": [
    "Замена `<space>` на `_` в названии колонок"
   ]
  },
  {
   "cell_type": "code",
   "execution_count": 31,
   "metadata": {},
   "outputs": [],
   "source": [
    "outop_20_21.columns = [x.replace(' ', '_') for x in outop_20_21.columns]"
   ]
  },
  {
   "cell_type": "code",
   "execution_count": 45,
   "metadata": {},
   "outputs": [
    {
     "data": {
      "text/plain": [
       "Index(['Тип_операции', 'Источник_операции', 'Код_позиции', 'Описание_позиции',\n",
       "       'Код_организации_источника', 'Описание_организации_источника',\n",
       "       '№_Площадки', 'Количество_операции', 'ЕИ', 'Объем_за_единицу',\n",
       "       'Общий_объем', 'ЕИ_объема'],\n",
       "      dtype='object')"
      ]
     },
     "execution_count": 45,
     "metadata": {},
     "output_type": "execute_result"
    }
   ],
   "source": [
    "outop_20_21.columns"
   ]
  },
  {
   "cell_type": "markdown",
   "metadata": {},
   "source": [
    "Выборка нужных колонок"
   ]
  },
  {
   "cell_type": "code",
   "execution_count": 52,
   "metadata": {},
   "outputs": [
    {
     "name": "stdout",
     "output_type": "stream",
     "text": [
      "<class 'pandas.core.frame.DataFrame'>\n",
      "DatetimeIndex: 192414 entries, 2021-03-26 to 2020-12-22\n",
      "Data columns (total 2 columns):\n",
      " #   Column                     Non-Null Count   Dtype  \n",
      "---  ------                     --------------   -----  \n",
      " 0   Код_организации_источника  192414 non-null  object \n",
      " 1   Общий_объем                192315 non-null  float64\n",
      "dtypes: float64(1), object(1)\n",
      "memory usage: 4.4+ MB\n"
     ]
    }
   ],
   "source": [
    "outop_masked = outop_20_21[['Код_организации_источника', 'Общий_объем']]\n",
    "outop_masked.info()"
   ]
  },
  {
   "cell_type": "markdown",
   "metadata": {},
   "source": [
    "Краткая статистика выбранных данных"
   ]
  },
  {
   "cell_type": "code",
   "execution_count": 57,
   "metadata": {},
   "outputs": [
    {
     "data": {
      "text/html": [
       "<div>\n",
       "<style scoped>\n",
       "    .dataframe tbody tr th:only-of-type {\n",
       "        vertical-align: middle;\n",
       "    }\n",
       "\n",
       "    .dataframe tbody tr th {\n",
       "        vertical-align: top;\n",
       "    }\n",
       "\n",
       "    .dataframe thead th {\n",
       "        text-align: right;\n",
       "    }\n",
       "</style>\n",
       "<table border=\"1\" class=\"dataframe\">\n",
       "  <thead>\n",
       "    <tr style=\"text-align: right;\">\n",
       "      <th></th>\n",
       "      <th>Код_организации_источника</th>\n",
       "      <th>Общий_объем</th>\n",
       "    </tr>\n",
       "  </thead>\n",
       "  <tbody>\n",
       "    <tr>\n",
       "      <th>count</th>\n",
       "      <td>192414</td>\n",
       "      <td>192315.000000</td>\n",
       "    </tr>\n",
       "    <tr>\n",
       "      <th>unique</th>\n",
       "      <td>7</td>\n",
       "      <td>NaN</td>\n",
       "    </tr>\n",
       "    <tr>\n",
       "      <th>top</th>\n",
       "      <td>304</td>\n",
       "      <td>NaN</td>\n",
       "    </tr>\n",
       "    <tr>\n",
       "      <th>freq</th>\n",
       "      <td>76618</td>\n",
       "      <td>NaN</td>\n",
       "    </tr>\n",
       "    <tr>\n",
       "      <th>mean</th>\n",
       "      <td>NaN</td>\n",
       "      <td>0.148468</td>\n",
       "    </tr>\n",
       "    <tr>\n",
       "      <th>std</th>\n",
       "      <td>NaN</td>\n",
       "      <td>1.086015</td>\n",
       "    </tr>\n",
       "    <tr>\n",
       "      <th>min</th>\n",
       "      <td>NaN</td>\n",
       "      <td>0.000000</td>\n",
       "    </tr>\n",
       "    <tr>\n",
       "      <th>25%</th>\n",
       "      <td>NaN</td>\n",
       "      <td>0.002340</td>\n",
       "    </tr>\n",
       "    <tr>\n",
       "      <th>50%</th>\n",
       "      <td>NaN</td>\n",
       "      <td>0.014329</td>\n",
       "    </tr>\n",
       "    <tr>\n",
       "      <th>75%</th>\n",
       "      <td>NaN</td>\n",
       "      <td>0.075264</td>\n",
       "    </tr>\n",
       "    <tr>\n",
       "      <th>max</th>\n",
       "      <td>NaN</td>\n",
       "      <td>223.616000</td>\n",
       "    </tr>\n",
       "  </tbody>\n",
       "</table>\n",
       "</div>"
      ],
      "text/plain": [
       "       Код_организации_источника    Общий_объем\n",
       "count                     192414  192315.000000\n",
       "unique                         7            NaN\n",
       "top                          304            NaN\n",
       "freq                       76618            NaN\n",
       "mean                         NaN       0.148468\n",
       "std                          NaN       1.086015\n",
       "min                          NaN       0.000000\n",
       "25%                          NaN       0.002340\n",
       "50%                          NaN       0.014329\n",
       "75%                          NaN       0.075264\n",
       "max                          NaN     223.616000"
      ]
     },
     "execution_count": 57,
     "metadata": {},
     "output_type": "execute_result"
    }
   ],
   "source": [
    "outop_masked.describe(include='all')"
   ]
  },
  {
   "cell_type": "markdown",
   "metadata": {},
   "source": [
    "Количество уникальных регионов - `'Код_организации_источника'`"
   ]
  },
  {
   "cell_type": "code",
   "execution_count": 59,
   "metadata": {},
   "outputs": [
    {
     "data": {
      "text/plain": [
       "7"
      ]
     },
     "execution_count": 59,
     "metadata": {},
     "output_type": "execute_result"
    }
   ],
   "source": [
    "outop_masked[\"Код_организации_источника\"].nunique()"
   ]
  },
  {
   "cell_type": "code",
   "execution_count": 64,
   "metadata": {},
   "outputs": [],
   "source": [
    "outop_101 = outop_masked[\n",
    "    outop_masked.Код_организации_источника.str.contains(\"101\", regex=True)\n",
    "]"
   ]
  },
  {
   "cell_type": "code",
   "execution_count": 66,
   "metadata": {},
   "outputs": [
    {
     "data": {
      "text/html": [
       "<div>\n",
       "<style scoped>\n",
       "    .dataframe tbody tr th:only-of-type {\n",
       "        vertical-align: middle;\n",
       "    }\n",
       "\n",
       "    .dataframe tbody tr th {\n",
       "        vertical-align: top;\n",
       "    }\n",
       "\n",
       "    .dataframe thead th {\n",
       "        text-align: right;\n",
       "    }\n",
       "</style>\n",
       "<table border=\"1\" class=\"dataframe\">\n",
       "  <thead>\n",
       "    <tr style=\"text-align: right;\">\n",
       "      <th></th>\n",
       "      <th>Код_организации_источника</th>\n",
       "      <th>Общий_объем</th>\n",
       "    </tr>\n",
       "    <tr>\n",
       "      <th>Дата операции</th>\n",
       "      <th></th>\n",
       "      <th></th>\n",
       "    </tr>\n",
       "  </thead>\n",
       "  <tbody>\n",
       "    <tr>\n",
       "      <th>2021-04-07</th>\n",
       "      <td>101</td>\n",
       "      <td>0.00625</td>\n",
       "    </tr>\n",
       "    <tr>\n",
       "      <th>2021-03-02</th>\n",
       "      <td>101</td>\n",
       "      <td>0.04080</td>\n",
       "    </tr>\n",
       "    <tr>\n",
       "      <th>2021-04-07</th>\n",
       "      <td>101</td>\n",
       "      <td>0.08160</td>\n",
       "    </tr>\n",
       "    <tr>\n",
       "      <th>2021-04-28</th>\n",
       "      <td>101</td>\n",
       "      <td>0.04080</td>\n",
       "    </tr>\n",
       "    <tr>\n",
       "      <th>2021-06-11</th>\n",
       "      <td>101</td>\n",
       "      <td>0.04080</td>\n",
       "    </tr>\n",
       "    <tr>\n",
       "      <th>2021-05-27</th>\n",
       "      <td>101</td>\n",
       "      <td>0.00012</td>\n",
       "    </tr>\n",
       "    <tr>\n",
       "      <th>2021-02-01</th>\n",
       "      <td>101</td>\n",
       "      <td>0.00456</td>\n",
       "    </tr>\n",
       "    <tr>\n",
       "      <th>2021-02-05</th>\n",
       "      <td>101</td>\n",
       "      <td>0.00456</td>\n",
       "    </tr>\n",
       "  </tbody>\n",
       "</table>\n",
       "</div>"
      ],
      "text/plain": [
       "              Код_организации_источника  Общий_объем\n",
       "Дата операции                                       \n",
       "2021-04-07                          101      0.00625\n",
       "2021-03-02                          101      0.04080\n",
       "2021-04-07                          101      0.08160\n",
       "2021-04-28                          101      0.04080\n",
       "2021-06-11                          101      0.04080\n",
       "2021-05-27                          101      0.00012\n",
       "2021-02-01                          101      0.00456\n",
       "2021-02-05                          101      0.00456"
      ]
     },
     "execution_count": 66,
     "metadata": {},
     "output_type": "execute_result"
    }
   ],
   "source": [
    "outop_101.head(8)"
   ]
  },
  {
   "cell_type": "markdown",
   "metadata": {},
   "source": [
    "Работа с `inop_20_21`"
   ]
  },
  {
   "cell_type": "code",
   "execution_count": 96,
   "metadata": {},
   "outputs": [
    {
     "data": {
      "text/html": [
       "<div>\n",
       "<style scoped>\n",
       "    .dataframe tbody tr th:only-of-type {\n",
       "        vertical-align: middle;\n",
       "    }\n",
       "\n",
       "    .dataframe tbody tr th {\n",
       "        vertical-align: top;\n",
       "    }\n",
       "\n",
       "    .dataframe thead th {\n",
       "        text-align: right;\n",
       "    }\n",
       "</style>\n",
       "<table border=\"1\" class=\"dataframe\">\n",
       "  <thead>\n",
       "    <tr style=\"text-align: right;\">\n",
       "      <th></th>\n",
       "      <th>Дата_операции</th>\n",
       "      <th>Тип_операции_по_приходным_операциям</th>\n",
       "      <th>Код_позиции</th>\n",
       "      <th>Описание_позиции</th>\n",
       "      <th>Код_Организации</th>\n",
       "      <th>Описание_Организации</th>\n",
       "      <th>ЕИ</th>\n",
       "      <th>Количество_</th>\n",
       "      <th>Объем_за_единицу</th>\n",
       "      <th>Общий_объем</th>\n",
       "      <th>ЕИ_объема</th>\n",
       "    </tr>\n",
       "  </thead>\n",
       "  <tbody>\n",
       "    <tr>\n",
       "      <th>0</th>\n",
       "      <td>2020-01-09</td>\n",
       "      <td>Поступление ЗП</td>\n",
       "      <td>145.346.000338</td>\n",
       "      <td>Антенна MOBI MB3F2600-65-1717.5DDE-DFM-IN</td>\n",
       "      <td>К04</td>\n",
       "      <td>Склад ответхранения, Мэйджор, КЦ</td>\n",
       "      <td>шт</td>\n",
       "      <td>48.0</td>\n",
       "      <td>0.181116</td>\n",
       "      <td>8.693568</td>\n",
       "      <td>кбм</td>\n",
       "    </tr>\n",
       "    <tr>\n",
       "      <th>1</th>\n",
       "      <td>2020-01-09</td>\n",
       "      <td>Поступление ЗП</td>\n",
       "      <td>145.346.000338</td>\n",
       "      <td>Антенна MOBI MB3F2600-65-1717.5DDE-DFM-IN</td>\n",
       "      <td>К04</td>\n",
       "      <td>Склад ответхранения, Мэйджор, КЦ</td>\n",
       "      <td>шт</td>\n",
       "      <td>11.0</td>\n",
       "      <td>0.181116</td>\n",
       "      <td>1.992276</td>\n",
       "      <td>кбм</td>\n",
       "    </tr>\n",
       "  </tbody>\n",
       "</table>\n",
       "</div>"
      ],
      "text/plain": [
       "  Дата_операции Тип_операции_по_приходным_операциям     Код_позиции  \\\n",
       "0    2020-01-09                      Поступление ЗП  145.346.000338   \n",
       "1    2020-01-09                      Поступление ЗП  145.346.000338   \n",
       "\n",
       "                            Описание_позиции Код_Организации  \\\n",
       "0  Антенна MOBI MB3F2600-65-1717.5DDE-DFM-IN             К04   \n",
       "1  Антенна MOBI MB3F2600-65-1717.5DDE-DFM-IN             К04   \n",
       "\n",
       "               Описание_Организации  ЕИ  Количество_  Объем_за_единицу  \\\n",
       "0  Склад ответхранения, Мэйджор, КЦ  шт         48.0          0.181116   \n",
       "1  Склад ответхранения, Мэйджор, КЦ  шт         11.0          0.181116   \n",
       "\n",
       "   Общий_объем ЕИ_объема  \n",
       "0     8.693568       кбм  \n",
       "1     1.992276       кбм  "
      ]
     },
     "execution_count": 96,
     "metadata": {},
     "output_type": "execute_result"
    }
   ],
   "source": [
    "inop_20_21.head(2)"
   ]
  },
  {
   "cell_type": "code",
   "execution_count": 92,
   "metadata": {},
   "outputs": [
    {
     "name": "stdout",
     "output_type": "stream",
     "text": [
      "<class 'pandas.core.frame.DataFrame'>\n",
      "RangeIndex: 103113 entries, 0 to 103112\n",
      "Data columns (total 11 columns):\n",
      " #   Column                               Non-Null Count   Dtype         \n",
      "---  ------                               --------------   -----         \n",
      " 0   Дата операции                        103113 non-null  datetime64[ns]\n",
      " 1   Тип операции по приходным операциям  103113 non-null  object        \n",
      " 2   Код позиции                          103113 non-null  object        \n",
      " 3   Описание позиции                     103113 non-null  object        \n",
      " 4   Код Организации                      103113 non-null  object        \n",
      " 5   Описание Организации                 103113 non-null  object        \n",
      " 6   ЕИ                                   103113 non-null  object        \n",
      " 7   Количество                           103113 non-null  float64       \n",
      " 8   Объем за единицу                     102902 non-null  float64       \n",
      " 9   Общий объем                          102902 non-null  float64       \n",
      " 10  ЕИ объема                            102992 non-null  object        \n",
      "dtypes: datetime64[ns](1), float64(3), object(7)\n",
      "memory usage: 8.7+ MB\n"
     ]
    }
   ],
   "source": [
    "inop_20_21.info()"
   ]
  },
  {
   "cell_type": "markdown",
   "metadata": {},
   "source": [
    "Проведение операций аналогичных `outop_20_21`"
   ]
  },
  {
   "cell_type": "code",
   "execution_count": null,
   "metadata": {},
   "outputs": [],
   "source": [
    "inop_20_21.set_index(\"Дата операции\")"
   ]
  },
  {
   "cell_type": "code",
   "execution_count": null,
   "metadata": {},
   "outputs": [],
   "source": [
    "inop_20_21.columns = [x.replace(' ', '_') for x in inop_20_21.columns]"
   ]
  },
  {
   "cell_type": "code",
   "execution_count": 102,
   "metadata": {},
   "outputs": [
    {
     "data": {
      "text/plain": [
       "Index(['Дата_операции', 'Тип_операции_по_приходным_операциям', 'Код_позиции',\n",
       "       'Описание_позиции', 'Код_Организации', 'Описание_Организации', 'ЕИ',\n",
       "       'Количество_', 'Объем_за_единицу', 'Общий_объем', 'ЕИ_объема'],\n",
       "      dtype='object')"
      ]
     },
     "execution_count": 102,
     "metadata": {},
     "output_type": "execute_result"
    }
   ],
   "source": [
    "inop_20_21.columns"
   ]
  },
  {
   "cell_type": "markdown",
   "metadata": {},
   "source": [
    "Приведение названий к единому виду"
   ]
  },
  {
   "cell_type": "code",
   "execution_count": 105,
   "metadata": {},
   "outputs": [
    {
     "data": {
      "text/plain": [
       "Index(['Дата_операции', 'Тип_операции_по_приходным_операциям', 'Код_позиции',\n",
       "       'Описание_позиции', 'Код_организации_источника', 'Описание_Организации',\n",
       "       'ЕИ', 'Количество', 'Объем_за_единицу', 'Общий_объем', 'ЕИ_объема'],\n",
       "      dtype='object')"
      ]
     },
     "execution_count": 105,
     "metadata": {},
     "output_type": "execute_result"
    }
   ],
   "source": [
    "inop_20_21.rename(\n",
    "    columns={\n",
    "        'Код_Организации': 'Код_организации_источника',\n",
    "        'Количество_': 'Количество'\n",
    "    },\n",
    "    inplace=True\n",
    ")\n",
    "inop_20_21.columns"
   ]
  },
  {
   "cell_type": "code",
   "execution_count": 107,
   "metadata": {},
   "outputs": [],
   "source": [
    "inop_masked = inop_20_21[['Код_организации_источника', 'Общий_объем']]"
   ]
  },
  {
   "cell_type": "code",
   "execution_count": 115,
   "metadata": {},
   "outputs": [
    {
     "data": {
      "text/html": [
       "<div>\n",
       "<style scoped>\n",
       "    .dataframe tbody tr th:only-of-type {\n",
       "        vertical-align: middle;\n",
       "    }\n",
       "\n",
       "    .dataframe tbody tr th {\n",
       "        vertical-align: top;\n",
       "    }\n",
       "\n",
       "    .dataframe thead th {\n",
       "        text-align: right;\n",
       "    }\n",
       "</style>\n",
       "<table border=\"1\" class=\"dataframe\">\n",
       "  <thead>\n",
       "    <tr style=\"text-align: right;\">\n",
       "      <th></th>\n",
       "      <th>Код_организации_источника</th>\n",
       "      <th>Общий_объем</th>\n",
       "    </tr>\n",
       "  </thead>\n",
       "  <tbody>\n",
       "    <tr>\n",
       "      <th>count</th>\n",
       "      <td>103113</td>\n",
       "      <td>102902.000000</td>\n",
       "    </tr>\n",
       "    <tr>\n",
       "      <th>unique</th>\n",
       "      <td>6</td>\n",
       "      <td>NaN</td>\n",
       "    </tr>\n",
       "    <tr>\n",
       "      <th>top</th>\n",
       "      <td>304</td>\n",
       "      <td>NaN</td>\n",
       "    </tr>\n",
       "    <tr>\n",
       "      <th>freq</th>\n",
       "      <td>52181</td>\n",
       "      <td>NaN</td>\n",
       "    </tr>\n",
       "    <tr>\n",
       "      <th>mean</th>\n",
       "      <td>NaN</td>\n",
       "      <td>1.877905</td>\n",
       "    </tr>\n",
       "    <tr>\n",
       "      <th>std</th>\n",
       "      <td>NaN</td>\n",
       "      <td>374.322000</td>\n",
       "    </tr>\n",
       "    <tr>\n",
       "      <th>min</th>\n",
       "      <td>NaN</td>\n",
       "      <td>0.000000</td>\n",
       "    </tr>\n",
       "    <tr>\n",
       "      <th>25%</th>\n",
       "      <td>NaN</td>\n",
       "      <td>0.006650</td>\n",
       "    </tr>\n",
       "    <tr>\n",
       "      <th>50%</th>\n",
       "      <td>NaN</td>\n",
       "      <td>0.035100</td>\n",
       "    </tr>\n",
       "    <tr>\n",
       "      <th>75%</th>\n",
       "      <td>NaN</td>\n",
       "      <td>0.168264</td>\n",
       "    </tr>\n",
       "    <tr>\n",
       "      <th>max</th>\n",
       "      <td>NaN</td>\n",
       "      <td>120000.000000</td>\n",
       "    </tr>\n",
       "  </tbody>\n",
       "</table>\n",
       "</div>"
      ],
      "text/plain": [
       "       Код_организации_источника    Общий_объем\n",
       "count                     103113  102902.000000\n",
       "unique                         6            NaN\n",
       "top                          304            NaN\n",
       "freq                       52181            NaN\n",
       "mean                         NaN       1.877905\n",
       "std                          NaN     374.322000\n",
       "min                          NaN       0.000000\n",
       "25%                          NaN       0.006650\n",
       "50%                          NaN       0.035100\n",
       "75%                          NaN       0.168264\n",
       "max                          NaN  120000.000000"
      ]
     },
     "execution_count": 115,
     "metadata": {},
     "output_type": "execute_result"
    }
   ],
   "source": [
    "inop_masked.describe(include=\"all\")"
   ]
  },
  {
   "cell_type": "markdown",
   "metadata": {},
   "source": [
    "Обращаем внимание на квантили"
   ]
  },
  {
   "cell_type": "code",
   "execution_count": 116,
   "metadata": {},
   "outputs": [
    {
     "data": {
      "text/plain": [
       "0.01     0.000000\n",
       "0.05     0.000240\n",
       "0.95     2.250000\n",
       "0.99    13.247978\n",
       "Name: Общий_объем, dtype: float64"
      ]
     },
     "execution_count": 116,
     "metadata": {},
     "output_type": "execute_result"
    }
   ],
   "source": [
    "inop_masked['Общий_объем'].quantile([0.01, 0.05, 0.95, 0.99])"
   ]
  },
  {
   "cell_type": "code",
   "execution_count": 146,
   "metadata": {},
   "outputs": [
    {
     "data": {
      "image/png": "[encoded data removed]",
      "text/plain": [
       "<Figure size 576x432 with 1 Axes>"
      ]
     },
     "metadata": {},
     "output_type": "display_data"
    }
   ],
   "source": [
    "inop_masked.plot.box(figsize=(8,6))\n",
    "plt.show()"
   ]
  },
  {
   "cell_type": "markdown",
   "metadata": {},
   "source": [
    "В данной выборке данных присутствует неравноценный максимум."
   ]
  },
  {
   "cell_type": "code",
   "execution_count": 133,
   "metadata": {},
   "outputs": [
    {
     "data": {
      "text/html": [
       "<div>\n",
       "<style scoped>\n",
       "    .dataframe tbody tr th:only-of-type {\n",
       "        vertical-align: middle;\n",
       "    }\n",
       "\n",
       "    .dataframe tbody tr th {\n",
       "        vertical-align: top;\n",
       "    }\n",
       "\n",
       "    .dataframe thead th {\n",
       "        text-align: right;\n",
       "    }\n",
       "</style>\n",
       "<table border=\"1\" class=\"dataframe\">\n",
       "  <thead>\n",
       "    <tr style=\"text-align: right;\">\n",
       "      <th></th>\n",
       "      <th>Код_организации_источника</th>\n",
       "      <th>Общий_объем</th>\n",
       "    </tr>\n",
       "  </thead>\n",
       "  <tbody>\n",
       "    <tr>\n",
       "      <th>48222</th>\n",
       "      <td>702</td>\n",
       "      <td>4000.0</td>\n",
       "    </tr>\n",
       "  </tbody>\n",
       "</table>\n",
       "</div>"
      ],
      "text/plain": [
       "      Код_организации_источника  Общий_объем\n",
       "48222                       702       4000.0"
      ]
     },
     "execution_count": 133,
     "metadata": {},
     "output_type": "execute_result"
    }
   ],
   "source": [
    "inop_masked.loc[inop_masked[\"Общий_объем\"] == inop_masked[\"Общий_объем\"].max()]"
   ]
  },
  {
   "cell_type": "markdown",
   "metadata": {},
   "source": [
    "Удалим его первые 3 максимума"
   ]
  },
  {
   "cell_type": "code",
   "execution_count": 139,
   "metadata": {},
   "outputs": [
    {
     "data": {
      "text/plain": [
       "48222    4000.00\n",
       "49586     939.25\n",
       "24252     274.89\n",
       "Name: Общий_объем, dtype: float64"
      ]
     },
     "execution_count": 139,
     "metadata": {},
     "output_type": "execute_result"
    }
   ],
   "source": [
    "inop_masked[\"Общий_объем\"].nlargest(3)"
   ]
  },
  {
   "cell_type": "code",
   "execution_count": null,
   "metadata": {},
   "outputs": [],
   "source": [
    "inop_masked = inop_masked.drop(inop_masked[\"Общий_объем\"].nlargest(3))"
   ]
  },
  {
   "cell_type": "code",
   "execution_count": 130,
   "metadata": {},
   "outputs": [
    {
     "data": {
      "text/plain": [
       "0.01     0.000000\n",
       "0.05     0.000240\n",
       "0.95     2.250000\n",
       "0.99    13.245839\n",
       "Name: Общий_объем, dtype: float64"
      ]
     },
     "execution_count": 130,
     "metadata": {},
     "output_type": "execute_result"
    }
   ],
   "source": [
    "inop_masked['Общий_объем'].quantile([0.01, 0.05, 0.95, 0.99])"
   ]
  },
  {
   "cell_type": "markdown",
   "metadata": {},
   "source": [
    "#### 2) Визуализация данных при помощи `matplotlib`."
   ]
  },
  {
   "cell_type": "code",
   "execution_count": 147,
   "metadata": {},
   "outputs": [],
   "source": [
    "plt.style.use([\"grid\", 'science', 'notebook'])"
   ]
  },
  {
   "cell_type": "code",
   "execution_count": 153,
   "metadata": {},
   "outputs": [],
   "source": [
    "inop_101 = inop_masked[\n",
    "    inop_masked.Код_организации_источника.str.contains(\"101\", regex=True)\n",
    "]"
   ]
  },
  {
   "cell_type": "code",
   "execution_count": 154,
   "metadata": {},
   "outputs": [
    {
     "data": {
      "text/html": [
       "<div>\n",
       "<style scoped>\n",
       "    .dataframe tbody tr th:only-of-type {\n",
       "        vertical-align: middle;\n",
       "    }\n",
       "\n",
       "    .dataframe tbody tr th {\n",
       "        vertical-align: top;\n",
       "    }\n",
       "\n",
       "    .dataframe thead th {\n",
       "        text-align: right;\n",
       "    }\n",
       "</style>\n",
       "<table border=\"1\" class=\"dataframe\">\n",
       "  <thead>\n",
       "    <tr style=\"text-align: right;\">\n",
       "      <th></th>\n",
       "      <th>Код_организации_источника</th>\n",
       "      <th>Общий_объем</th>\n",
       "    </tr>\n",
       "  </thead>\n",
       "  <tbody>\n",
       "    <tr>\n",
       "      <th>8</th>\n",
       "      <td>101</td>\n",
       "      <td>0.723677</td>\n",
       "    </tr>\n",
       "    <tr>\n",
       "      <th>9</th>\n",
       "      <td>101</td>\n",
       "      <td>2.914560</td>\n",
       "    </tr>\n",
       "    <tr>\n",
       "      <th>10</th>\n",
       "      <td>101</td>\n",
       "      <td>0.013720</td>\n",
       "    </tr>\n",
       "    <tr>\n",
       "      <th>18</th>\n",
       "      <td>101</td>\n",
       "      <td>0.315900</td>\n",
       "    </tr>\n",
       "    <tr>\n",
       "      <th>19</th>\n",
       "      <td>101</td>\n",
       "      <td>0.421200</td>\n",
       "    </tr>\n",
       "    <tr>\n",
       "      <th>...</th>\n",
       "      <td>...</td>\n",
       "      <td>...</td>\n",
       "    </tr>\n",
       "    <tr>\n",
       "      <th>27517</th>\n",
       "      <td>101</td>\n",
       "      <td>0.523250</td>\n",
       "    </tr>\n",
       "    <tr>\n",
       "      <th>28053</th>\n",
       "      <td>101</td>\n",
       "      <td>0.081396</td>\n",
       "    </tr>\n",
       "    <tr>\n",
       "      <th>28058</th>\n",
       "      <td>101</td>\n",
       "      <td>0.136401</td>\n",
       "    </tr>\n",
       "    <tr>\n",
       "      <th>28153</th>\n",
       "      <td>101</td>\n",
       "      <td>0.058800</td>\n",
       "    </tr>\n",
       "    <tr>\n",
       "      <th>28502</th>\n",
       "      <td>101</td>\n",
       "      <td>1.441440</td>\n",
       "    </tr>\n",
       "  </tbody>\n",
       "</table>\n",
       "<p>20688 rows × 2 columns</p>\n",
       "</div>"
      ],
      "text/plain": [
       "      Код_организации_источника  Общий_объем\n",
       "8                           101     0.723677\n",
       "9                           101     2.914560\n",
       "10                          101     0.013720\n",
       "18                          101     0.315900\n",
       "19                          101     0.421200\n",
       "...                         ...          ...\n",
       "27517                       101     0.523250\n",
       "28053                       101     0.081396\n",
       "28058                       101     0.136401\n",
       "28153                       101     0.058800\n",
       "28502                       101     1.441440\n",
       "\n",
       "[20688 rows x 2 columns]"
      ]
     },
     "execution_count": 154,
     "metadata": {},
     "output_type": "execute_result"
    }
   ],
   "source": [
    "inop_101"
   ]
  },
  {
   "cell_type": "code",
   "execution_count": 156,
   "metadata": {},
   "outputs": [
    {
     "data": {
      "image/png": "[encoded data removed]",
      "text/plain": [
       "<Figure size 864x432 with 1 Axes>"
      ]
     },
     "metadata": {},
     "output_type": "display_data"
    }
   ],
   "source": [
    "inop_101.plot.area(figsize=(12,6))\n",
    "plt.show()"
   ]
  },
  {
   "cell_type": "code",
   "execution_count": 160,
   "metadata": {},
   "outputs": [
    {
     "data": {
      "image/png": "[encoded data removed]",
      "text/plain": [
       "<Figure size 864x432 with 1 Axes>"
      ]
     },
     "metadata": {},
     "output_type": "display_data"
    }
   ],
   "source": [
    "outop_101.plot.area(figsize=(12,6))\n",
    "plt.xlim((\"2021-01-01\", \"2021-09-12\"))\n",
    "plt.show()"
   ]
  },
  {
   "cell_type": "markdown",
   "metadata": {},
   "source": [
    "Экспорт данных в `.csv` для прогнозирования"
   ]
  },
  {
   "cell_type": "code",
   "execution_count": 184,
   "metadata": {},
   "outputs": [],
   "source": [
    "outop_101[\"Общий_объем\"].to_csv(\"outop_101_vol.csv\")"
   ]
  },
  {
   "cell_type": "code",
   "execution_count": 168,
   "metadata": {},
   "outputs": [],
   "source": [
    "inop_101[\"Общий_объем\"].to_csv(\"inop_101_vol.csv\")"
   ]
  },
  {
   "cell_type": "markdown",
   "metadata": {},
   "source": [
    "#### 2) Прогнозирование организованных данных."
   ]
  },
  {
   "cell_type": "markdown",
   "id": "3c674168",
   "metadata": {},
   "source": [
    "#### Аппроксимация линейной и квадратичной функцией методом наименьших квадратов"
   ]
  },
  {
   "cell_type": "code",
   "execution_count": 161,
   "id": "f6f4ceee",
   "metadata": {},
   "outputs": [],
   "source": [
    "import numpy as np\n",
    "import math as mt\n",
    "import seaborn as sb\n",
    "import scipy.stats as sps\n",
    "import statistics as st\n",
    "import random\n",
    "import os\n",
    "import time\n",
    "\n",
    "\n",
    "%matplotlib inline"
   ]
  },
  {
   "cell_type": "code",
   "execution_count": 162,
   "id": "5016a1bc",
   "metadata": {},
   "outputs": [],
   "source": [
    "class prognoz:\n",
    "    '''\n",
    "    В основном классе есть функции подсчета: \n",
    "\n",
    "        sum_x() - сумма предикторов х\n",
    "        sum_y() - сумма значений y\n",
    "        square_x() - сумма квадратов предикторов x\n",
    "        sum_xy() - сумма произведений предикторов x и y\n",
    "        var_a() - значение a в линейной функции\n",
    "        var_b() - значение b в линейной функции\n",
    "        var_abc() - коэффициенты квадратичной функции (a,b,c соответственно)    \n",
    "        approx_func() - поиск отклонений, где функция стремится к минимуму для линейной функции \n",
    "        function_str()[0] - строковое выражение функции линейной\n",
    "        function_str()[1] - строковое выражение функции квадратичной\n",
    "        array_square_f() - аппроксимированные значения для квадратичной функции\n",
    "        array_f() - аппроксимированные значения для линейной функции\n",
    "        sum_3_degree - сумма предикторов x в 3 степени\n",
    "        sum_4_degree - сумма предикторов x в 4 степени\n",
    "        sum_x2_y - сумма предикторов x^2 и y \n",
    "        main_matrix - система уравнений\n",
    "        sigma - стандартное отклонение массива f\n",
    "        dispersion - дисперсия массива f\n",
    "\n",
    "    Функции визуализации:\n",
    "        prog.draw_board() - визуализация линейной функции\n",
    "        prog.draw_board_f2() - визуализация квадратичной функции\n",
    "        В функциях для прогнозирования:\n",
    "            draw_predict(self, pred_x) \n",
    "            draw_predict_square(self, pred_x)\n",
    "\n",
    "    ACHTUNG! В эти функции передается список - pred_x со значениями прогнозных точек x. \n",
    "    Желательный ввод для обеих функций - список с равномерным шагом. Для линейного прогнозирования\n",
    "    можно ввести значение в формате списка. Но для квадратичной диапазон до прогнозируемого значения x\n",
    "    с равномерным шагом.\n",
    "    '''\n",
    "    value = 0 \n",
    "\n",
    "    def __init__(self, csv_file, array_x = [], array_y=[]):\n",
    "        self.csv_file = pd.read_csv(csv_file, sep=';')\n",
    "        #self.array_x = self.csv_file['X'].tolist()\n",
    "        try:\n",
    "            self.array_x = [float(i.replace(',','.')) for i in self.csv_file['X'].tolist()]\n",
    "        except AttributeError:\n",
    "            self.array_x = self.csv_file['X'].tolist()\n",
    "        try:\n",
    "            self.array_y = [float(i.replace(',','.')) for i in self.csv_file['Y'].tolist()]\n",
    "        except AttributeError:\n",
    "            self.array_y = self.csv_file['Y'].tolist()\n",
    "    \n",
    "    def sum_x(self):\n",
    "        return(sum(self.array_x))\n",
    "        \n",
    "    def sum_y(self):\n",
    "        return(sum(self.array_y[i] for i in range(len(self.array_y))))\n",
    "\n",
    "    def square_x(self):\n",
    "        return(sum(self.array_x[i]**2 for i in range(len(self.array_x))))\n",
    "        \n",
    "    def sum_xy(self):\n",
    "        return(sum([self.array_x[i] * self.array_y[i] for i in range(len(self.array_x))]))\n",
    "    \n",
    "    def var_a(self):\n",
    "        return((len(self.array_x)*prognoz.sum_xy(self) - prognoz.sum_x(self) * prognoz.sum_y(self))/\n",
    "        (len(self.array_x)*prognoz.square_x(self) - (prognoz.sum_x(self)**2)))\n",
    "    \n",
    "    def var_b(self):\n",
    "        return((prognoz.sum_y(self)-prognoz.var_a(self)*prognoz.sum_x(self)) / (len(self.array_x)))\n",
    "    \n",
    "    def approx_func(self):\n",
    "        a = [prognoz.array_f(self)[i] - (prognoz.var_a(self)*self.array_x[i]+ prognoz.var_b(self)) \n",
    "                                         for i in range(len(prognoz.array_f(self)))]\n",
    "        return([a[i]**2 for i in range(len(a))]) \n",
    "     \n",
    "        '''тут начинается расчет квадратичной функции\n",
    "        она отличается только тем что добавляются 3 и 4 степени массива x.\n",
    "            '''\n",
    "        \n",
    "    def sum_3_degree(self):\n",
    "        return(sum(self.array_x[i]**3 for i in range(len(self.array_x))))\n",
    "\n",
    "    def sum_4_degree(self):\n",
    "        return(sum(self.array_x[i]**4 for i in range(len(self.array_x))))\n",
    "\n",
    "    def sum_x2_y(self):\n",
    "        return(sum([(self.array_x[i]**2)*self.array_y[i] for i in range(len(self.array_x))]))\n",
    "\n",
    "\n",
    "    def main_matrix(self):\n",
    "        '''\n",
    "        система уравнений имеет вид\n",
    "            ax^4+bx^3+сx^2\n",
    "            ax^3+bx^2+cx\n",
    "            ax^2+bx+cn, \n",
    "            где n - длина массива\n",
    "        '''\n",
    "        return([\n",
    "                [prognoz.sum_4_degree(self), prognoz.sum_3_degree(self),prognoz.square_x(self)],\n",
    "                [prognoz.sum_3_degree(self), prognoz.square_x(self), prognoz.sum_x(self)],\n",
    "                [prognoz.square_x(self), prognoz.sum_x(self), len(self.array_x)]\n",
    "                ])\n",
    "\n",
    "    def var_abc(self):\n",
    "        a = np.array(prognoz.main_matrix(self))\n",
    "        b = np.array([prognoz.sum_x2_y(self), prognoz.sum_xy(self), prognoz.sum_y(self)])\n",
    "        return(np.linalg.inv(a).dot(b))\n",
    "\n",
    "    def array_f(self):\n",
    "        return([prognoz.var_a(self)*self.array_x[i] + prognoz.var_b(self) \n",
    "                for i in range(len(self.array_x))])\n",
    "        \n",
    "    def array_square_f(self):\n",
    "        return([prognoz.var_abc(self)[0]*(self.array_x[i]**2)+\n",
    "                (prognoz.var_abc(self)[1]*self.array_x[i])+\n",
    "                prognoz.var_abc(self)[2] for i in range(len(self.array_x))])\n",
    "\n",
    "    def sigma(self):\n",
    "        c = [prognoz.var_a(self)*self.array_x[i] + prognoz.var_b(self) for i in range(len(self.array_x))]\n",
    "        return(mt.sqrt(sum([(i-j)**2 for i,j  in zip(self.array_y, c)])/len(self.array_y)))\n",
    "\n",
    "    def dispersion(self):\n",
    "        avg = sum(self.array_y) / len(self.array_y)\n",
    "        var = sum((x-avg)**2 for x in self.array_y) / len(self.array_y)\n",
    "        return(var)\n",
    "    def otklon_funct(self):\n",
    "        c = [prognoz.var_a(self)*self.array_x[i] + prognoz.var_b(self) for i in range(len(self.array_x))]\n",
    "        q = sum([(i-j)**2 for i,j  in zip(self.array_y, c)])\n",
    "        return(q)\n",
    "    def function_str(self):\n",
    "        '''проблема: при отрицательных значениях + остается'''\n",
    "        y1 =('Вид линейной аппроксимирующей функции:\\n  y = {}x+{}'\n",
    "            .format(round(prognoz.var_a(self), 2), round(prognoz.var_b(self), 2)))\n",
    "        y2 =('Вид квадратичной аппроксимирующей функции:\\n  y = {}x^2+{}x+{}'\n",
    "            .format(round(prognoz.var_abc(self)[0], 2), round(prognoz.var_abc(self)[1], 2),round(prognoz.var_abc(self)[2]), 2))\n",
    "        y3 = [y1,y2]\n",
    "        return(y3)\n",
    "    \n",
    "    def draw_board(self):\n",
    "        \n",
    "        x = np.array(self.array_x)\n",
    "        y = np.array(self.array_y)\n",
    "        f = np.array(prognoz.array_f(self))\n",
    "        ci_68 = np.std(y)\n",
    "        ci_95 = 2 * np.std(y) \n",
    "        ci_99 = 3 * np.std(y)\n",
    "        \n",
    "        \n",
    "        fig, axes = plt.subplots(1, 2)\n",
    "        fig.set_facecolor('floralwhite')\n",
    "        axes[0].text(x[0],y[0], s =f'{prognoz.function_str(self)[0]}\\nДисперсия: {(prognoz.sigma(self))**2}', fontsize=8, bbox={'facecolor':'yellow','alpha':0.8}, horizontalalignment=\"left\")  \n",
    "        axes[0].plot(x, y, 'b-..', label = 'Заданные точки y', linewidth=0.5, alpha = 0.5)\n",
    "        axes[0].plot(x, f, 'r' , label='Тренд',  linewidth=2)\n",
    "        axes[0].legend(loc=2)\n",
    "        axes[0].set_title('Аппроксимация линейной функции')\n",
    "        axes[0].set_xlabel(\"X\")\n",
    "        axes[0].set_ylabel(\"Y, F\")\n",
    "        axes[0].grid(which=\"major\", axis='both', alpha=.3)\n",
    "        \n",
    "        axes[1].plot(x, y, 'b-..', label = 'Заданные точки y', linewidth=0.5, alpha = 0.5)\n",
    "        axes[1].plot(x, f, 'r' , label='Тренд',  linewidth=2)\n",
    "        \n",
    "        axes[1].plot(x, f-ci_68,'g--', label=\"+- sigma\", alpha = 0.5)\n",
    "        axes[1].plot(x, f+ci_68,'g--', alpha = 0.5)\n",
    "        \n",
    "        axes[1].plot(x, f-ci_95, 'y.-', label=\"+- 2sigma\", alpha = 0.5)\n",
    "        axes[1].plot(x, f+ci_95, 'y.-', alpha = 0.5)\n",
    "\n",
    "        axes[1].plot(x, f-ci_99, 'c-.', label=\"+- 3sigma\", alpha = 0.5)\n",
    "        axes[1].plot(x, f+ci_99, 'c-.', alpha = 0.5)\n",
    "        \n",
    "        axes[1].text(x[0],y[0], s =f'{prognoz.function_str(self)[0]}\\nДисперсия: {(prognoz.sigma(self))**2}', fontsize=8, bbox={'facecolor':'yellow','alpha':0.8}, horizontalalignment=\"left\")  \n",
    "        axes[1].legend(loc=2)\n",
    "        axes[1].set_title('Аппроксимация линейной функции с доверительными интервалами')\n",
    "        axes[1].set_xlabel(\"X\")\n",
    "        axes[1].set_ylabel(\"Y, F\")\n",
    "        axes[1].grid(which=\"major\", axis='both', alpha=.3)\n",
    "        \n",
    "        plt.rcParams['figure.figsize'] = [30, 10]\n",
    "        plt.show()\n",
    "        \n",
    "\n",
    "        return('')\n",
    "    \n",
    "    def draw_board_f2(self):\n",
    "\n",
    "        x = np.array(self.array_x)\n",
    "        y = np.array(self.array_y)\n",
    "        f = np.array(prognoz.array_square_f(self))\n",
    "        \n",
    "        fig, axes = plt.subplots(1, 2)\n",
    "        fig.set_facecolor('floralwhite')\n",
    "        axes[0].text(x[0],y[0],s=f'{prognoz.function_str(self)[1]}\\nДисперсия: {(prognoz.sigma(self))**2}', fontsize=8, bbox={'facecolor':'yellow','alpha':0.8}, horizontalalignment=\"left\")  \n",
    "        axes[0].plot(x, y, 'b-..', label = 'Заданные точки y', linewidth=0.5, alpha = 0.5)\n",
    "        axes[0].plot(x, f, 'r' , label='Тренд', linewidth=2)\n",
    "        axes[0].legend(loc=2)\n",
    "        axes[0].set_title('Аппроксимация квадратичной функции')\n",
    "        axes[0].set_xlabel(\"X\")\n",
    "        axes[0].set_ylabel(\"Y, F\")\n",
    "        axes[0].grid(axis=\"y\")\n",
    "\n",
    "        ci_68 = np.std(y)\n",
    "        ci_95 = 2 * np.std(y) \n",
    "        ci_99 = 3 * np.std(y)\n",
    "\n",
    "        axes[1].plot(x, y, 'b-..', label = 'Заданные точки y', linewidth=0.5, alpha = 0.5)\n",
    "        axes[1].plot(x, f, 'r' , label='Тренд', linewidth=2)\n",
    "        \n",
    "        axes[1].text(x[0],y[0],s=f'{prognoz.function_str(self)[1]}\\nДисперсия: {(prognoz.sigma(self))**2}', fontsize=8, bbox={'facecolor':'yellow','alpha':0.8}, horizontalalignment=\"left\")  \n",
    "        axes[1].fill_between(x, (f-ci_68), (f+ci_68), color='blue', alpha=0.1)\n",
    "        axes[1].fill_between(x, (f-ci_95), (f+ci_95), color='yellow', alpha=.1)\n",
    "        axes[1].fill_between(x, (f-ci_99), (f+ci_99), color='blue', alpha=0.1)\n",
    "\n",
    "        axes[1].legend(loc=2)\n",
    "        axes[1].set_title('Аппроксимация квадратичной функции с доверительными интервалами')\n",
    "        axes[1].set_xlabel(\"X\")\n",
    "        axes[1].set_ylabel(\"Y, F\")\n",
    "        axes[1].grid(axis=\"y\")\n",
    "        plt.show()\n",
    "\n",
    "\n",
    "        \n",
    "    def draw_predict(self, pred_x):\n",
    "        start_time = time.time()\n",
    "        arr_x = np.array(self.array_x)\n",
    "        predx = np.array(pred_x)\n",
    "        \n",
    "        x1 = np.concatenate((arr_x, pred_x), axis = None)\n",
    "        \n",
    "        x_f = x1.tolist()\n",
    "        l = [prognoz.var_a(self)*x_f[i] + prognoz.var_b(self) for i in range(len(x_f))]\n",
    "\n",
    "        x = np.array(self.array_x)\n",
    "        y = np.array(self.array_y)\n",
    "        \n",
    "        fig, axes = plt.subplots()\n",
    "        fig.set_facecolor('floralwhite')\n",
    "        axes.plot(x, y, 'b-..', label = 'Заданные точки y', linewidth=0.5, alpha = 0.5)\n",
    "        axes.plot(x_f, l)\n",
    "        \n",
    "        axes.text(x[0],y[0],s=f'{prog.function_str()[0]}\\nДисперсия{(prog.sigma())**2}', fontsize=8, bbox={'facecolor':'yellow','alpha':0.8}, horizontalalignment=\"left\")  \n",
    "    \n",
    "        axes.legend(loc=2)\n",
    "        axes.set_title('Прогнозирование линейной функции')\n",
    "        axes.set_xlabel(\"X\")\n",
    "        axes.set_ylabel(\"Y, F\")\n",
    "        axes.grid(axis=\"y\")\n",
    "        plt.show()\n",
    "        \n",
    "        print(\"--- %s секунд ---\" % (time.time() - start_time))    \n",
    "        print(x_f, l, len(x_f), len(l))\n",
    "        \n",
    "    def draw_predict_square(self, pred_x):\n",
    "        start_time = time.time()\n",
    "        arr_x = np.array(self.array_x)\n",
    "        predx = np.array(pred_x)\n",
    "    \n",
    "        \n",
    "        x1 = np.concatenate((arr_x, pred_x), axis = None)\n",
    "        \n",
    "        x_f = x1.tolist()\n",
    "        l = [prognoz.var_abc(self)[0]*(x_f[i]**2)+\n",
    "                (prognoz.var_abc(self)[1]*x_f[i])+\n",
    "                prognoz.var_abc(self)[2] for i in range(len(x_f))]\n",
    "\n",
    "        x = np.array(self.array_x)\n",
    "        y = np.array(self.array_y)\n",
    "        \n",
    "        fig, axes = plt.subplots()\n",
    "        fig.set_facecolor('floralwhite')\n",
    "        axes.plot(x, y, 'b-..', label = 'Заданные точки y', linewidth=0.5, alpha = 0.5)\n",
    "        axes.plot(x_f, l)\n",
    "        \n",
    "        axes.text(x[0],y[0],s=prog.function_str()[1], fontsize=8, bbox={'facecolor':'yellow','alpha':0.8}, horizontalalignment=\"left\")  \n",
    "\n",
    "        axes.legend(loc=2)\n",
    "        axes.set_title('Прогнозирование квадратичной функции')\n",
    "        axes.set_xlabel(\"X\")\n",
    "        axes.set_ylabel(\"Y, F\")\n",
    "        axes.grid(axis=\"y\")\n",
    "        plt.show()\n",
    "    \n",
    "    \n",
    "        print(\"--- %s секунд ---\" % (time.time() - start_time))    \n",
    "        print(x_f, l, len(x_f), len(l))\n",
    "        return()\n",
    "\n",
    "#prog = prognoz('prog.csv')\n",
    "#prog_cleaned = prognoz(iqr.dir())\n",
    "#prog.draw_board()\n",
    "#prog_cleaned.draw_board()\n",
    "#prog.draw_board_f2()\n",
    "#prog_cleaned.draw_board_f2()\n"
   ]
  },
  {
   "cell_type": "markdown",
   "id": "615cba18",
   "metadata": {},
   "source": [
    "Передача файлов в класс"
   ]
  },
  {
   "cell_type": "code",
   "execution_count": null,
   "metadata": {},
   "outputs": [],
   "source": [
    "prog = prognoz(\"inop_101_vol.csv\")"
   ]
  },
  {
   "cell_type": "markdown",
   "id": "d4478a76",
   "metadata": {},
   "source": [
    "ВЫВОД"
   ]
  },
  {
   "cell_type": "code",
   "execution_count": null,
   "id": "4f1fedbb",
   "metadata": {},
   "outputs": [],
   "source": [
    "print('Апроксимированные значения: ',prog.array_f())\n",
    "print(prog.function_str()[0])\n",
    "print(prog.function_str()[1])\n",
    "print('Значение дисперсии: ',(prog.sigma())**2)\n",
    "prog_cleaned = prognoz(iqr.dir())\n",
    "print('\\nНеочищенная выборка\\n')\n",
    "prog.draw_board()\n",
    "print('\\nОчищенная выборка\\n')\n",
    "prog_cleaned.draw_board()\n",
    "print('\\nНеочищенная выборка\\n')\n",
    "prog.draw_board_f2()\n",
    "print('\\nОчищенная выборка\\n')\n",
    "prog_cleaned.draw_board_f2()\n",
    "prog.draw_predict(pred_x = [2040])\n",
    "prog.draw_predict_square(pred_x = [i for i in range (2020,2040)])\n",
    "print('Отклонение линейной: ',prog.otklon_funct())\n",
    "print('Отклонение квадратичной: ',prog_cleaned.otklon_funct())"
   ]
  },
  {
   "cell_type": "markdown",
   "id": "297c6857",
   "metadata": {},
   "source": [
    "Очистка от выбросов"
   ]
  },
  {
   "cell_type": "code",
   "execution_count": null,
   "id": "3bb207a4",
   "metadata": {},
   "outputs": [
    {
     "name": "stdout",
     "output_type": "stream",
     "text": [
      "Введите название: help.csv\n"
     ]
    }
   ],
   "source": [
    "iqr = clean_csv(input('Введите название: '))"
   ]
  },
  {
   "cell_type": "code",
   "execution_count": null,
   "id": "0fb078ba",
   "metadata": {},
   "outputs": [
    {
     "name": "stdout",
     "output_type": "stream",
     "text": [
      "       X    Y\n",
      "0   1950  0.5\n",
      "1   1960  1.5\n",
      "2   1970  3.0\n",
      "3   1980  4.2\n",
      "4   1990  3.8\n",
      "5   1992  4.3\n",
      "6   1995  4.5\n",
      "7   2000  4.3\n",
      "8   2001  5.3\n",
      "9   2002  5.9\n",
      "10  2003  5.5\n",
      "11  2004  4.4\n",
      "12  2005  4.2\n",
      "13  2006  4.5\n",
      "14  2007  4.8\n",
      "15  2008  4.9\n",
      "16  2009  4.9\n",
      "17  2010  4.5\n",
      "18  2011  4.7\n",
      "19  2012  4.5\n",
      "20  2013  4.7\n",
      "21  2014  4.7\n",
      "22  2015  4.2\n",
      "23  2016  4.1\n",
      "24  2017  4.2\n",
      "25  2018  4.0\n",
      "26  2019  4.2\n",
      "27  2020  3.9\n",
      "28  2021  4.4\n",
      "       X    Y\n",
      "3   1980  4.2\n",
      "4   1990  3.8\n",
      "5   1992  4.3\n",
      "6   1995  4.5\n",
      "7   2000  4.3\n",
      "8   2001  5.3\n",
      "11  2004  4.4\n",
      "12  2005  4.2\n",
      "13  2006  4.5\n",
      "14  2007  4.8\n",
      "15  2008  4.9\n",
      "16  2009  4.9\n",
      "17  2010  4.5\n",
      "18  2011  4.7\n",
      "19  2012  4.5\n",
      "20  2013  4.7\n",
      "21  2014  4.7\n",
      "22  2015  4.2\n",
      "23  2016  4.1\n",
      "24  2017  4.2\n",
      "25  2018  4.0\n",
      "26  2019  4.2\n",
      "27  2020  3.9\n",
      "28  2021  4.4\n",
      "0.9848018847719003\n",
      "AxesSubplot(0.125,0.125;0.775x0.755)\n",
      "Файл в режиме работы. Закройте файл и повторите попытку!\n",
      "1\n"
     ]
    },
    {
     "data": {
      "image/png": "[encoded data removed]",
      "text/plain": [
       "<Figure size 432x288 with 1 Axes>"
      ]
     },
     "metadata": {},
     "output_type": "display_data"
    }
   ],
   "source": [
    "class clean_csv:\n",
    "    ''' \n",
    "    Класс для очистки от выбросов. Обязательные параметры: название файла.\n",
    "                                   Необязательные параметры: Процент доступных для исключения точек.\n",
    "                                                             Максимальное количества итераций\n",
    "                                                             Название нового, очищенного от выбросов файла\n",
    "        '''\n",
    "    def __init__(self, csv, portion = 0.1, max_iter=1000, file_name = 'cleaned_xy.csv'):\n",
    "        self.csv = csv\n",
    "        self.portion = portion\n",
    "        self.max_iter = max_iter\n",
    "        self.file_name = file_name\n",
    "        \n",
    "    def csv_file(self):\n",
    "        return(pd.read_csv(self.csv, sep =';', decimal = ','))\n",
    "    \n",
    "    def boxplot(self):\n",
    "        csv = clean_csv.csv_file(self)\n",
    "        boxplot = csv.boxplot(['Y'])\n",
    "        return(boxplot)\n",
    "        \n",
    "    def clean(self):\n",
    "        csv = clean_csv.csv_file(self)\n",
    "        for en, x in enumerate(['Y']):\n",
    "            if en == self.max_iter:\n",
    "                break\n",
    "            q_75,q_25 = np.percentile(csv.loc[:,x],[75,25])\n",
    "            intr_qr = q_75-q_25\n",
    "\n",
    "            max = q_75+(1.5*intr_qr)\n",
    "            min = q_25-(1.5*intr_qr)\n",
    "    \n",
    "            csv.loc[csv[x] < min,x] = np.nan\n",
    "            csv.loc[csv[x] > max,x] = np.nan\n",
    "        csv.isnull().sum()\n",
    "        csv = csv.dropna(axis = 0)\n",
    "        return(csv)\n",
    "    \n",
    "    def dispersion_difference(self):\n",
    "        csv = clean_csv.csv_file(self)\n",
    "        cleaned = clean_csv.clean(self)\n",
    "        return(csv['Y'].var()-cleaned['Y'].var())\n",
    "    \n",
    "    def create_csv(self):\n",
    "        csv = clean_csv.clean(self)\n",
    "        try:\n",
    "            csv.to_csv(self.file_name, sep=';')\n",
    "        except PermissionError:\n",
    "            print('Файл в режиме работы. Закройте файл и повторите попытку!')\n",
    "        return(os.system(self.file_name))\n",
    "    \n",
    "    def dir(self):\n",
    "        return(os.path.abspath(self.file_name))\n",
    "    \n",
    "#iqr = clean_csv('prog.csv')#название файла\n",
    "print(iqr.csv_file()) #датафрейм\n",
    "print(iqr.clean()) #очищенная выборка\n",
    "print(iqr.dispersion_difference()) #пункт 3 в) подсчет разницы дисперсий\n",
    "print(iqr.boxplot()) #ящик с усами\n",
    "print(iqr.create_csv()) #открывает файлЫ"
   ]
  }
 ],
 "metadata": {
  "kernelspec": {
   "display_name": "base",
   "language": "python",
   "name": "python3"
  },
  "language_info": {
   "codemirror_mode": {
    "name": "ipython",
    "version": 3
   },
   "file_extension": ".py",
   "mimetype": "text/x-python",
   "name": "python",
   "nbconvert_exporter": "python",
   "pygments_lexer": "ipython3",
   "version": "3.9.7"
  },
  "orig_nbformat": 4,
  "vscode": {
   "interpreter": {
    "hash": "2043299c89c8cd0b4d1a6f5cf4529bd58e6a4e0fe3181a25e0d328c821cdc5c5"
   }
  }
 },
 "nbformat": 4,
 "nbformat_minor": 2
}
